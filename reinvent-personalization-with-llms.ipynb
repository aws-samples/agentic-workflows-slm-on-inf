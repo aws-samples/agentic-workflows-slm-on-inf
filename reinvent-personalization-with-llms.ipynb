{
 "cells": [
  {
   "cell_type": "markdown",
   "id": "359ef86573837a2a",
   "metadata": {},
   "source": [
    "# Let's Build Personalized Website using Agentic Workflows and Inferentia\n",
    "\n",
    "Notes: \n",
    "1. Use the native Jupyter Notebook to leverage the full features of this notebook"
   ]
  },
  {
   "cell_type": "markdown",
   "id": "dcac26309b11cf46",
   "metadata": {},
   "source": [
    "## Import Libraries"
   ]
  },
  {
   "cell_type": "code",
   "execution_count": null,
   "id": "c1208d2cf05499b3",
   "metadata": {
    "ExecuteTime": {
     "end_time": "2024-01-22T22:50:21.868106Z",
     "start_time": "2024-01-22T22:50:21.806873Z"
    },
    "tags": []
   },
   "outputs": [],
   "source": [
    "import warnings\n",
    "warnings.filterwarnings('ignore')\n",
    "\n",
    "import base64\n",
    "import boto3\n",
    "import io\n",
    "import os\n",
    "import json\n",
    "import re\n",
    "import importlib\n",
    "import shutil\n",
    "import re\n",
    "import numpy as np\n",
    "import matplotlib.pyplot as plt\n",
    "from ipywidgets import widgets\n",
    "from IPython.core.display import display, HTML\n",
    "from PIL import Image"
   ]
  },
  {
   "cell_type": "code",
   "execution_count": null,
   "id": "f7dfa7e8-8dca-4066-88a9-015823c84f12",
   "metadata": {},
   "outputs": [],
   "source": [
    "sm_client = boto3.client(\"sagemaker\")\n",
    "smr_client = boto3.client(\"sagemaker-runtime\")"
   ]
  },
  {
   "cell_type": "markdown",
   "id": "325db3d1-363c-4e21-b217-b587c58dd804",
   "metadata": {},
   "source": [
    "## Useful functions\n",
    "Let's define some functions that'll be used in the process of gathering the content for the website."
   ]
  },
  {
   "cell_type": "code",
   "execution_count": null,
   "id": "e670a8e0-a6e2-44cc-883c-77dd31eafb72",
   "metadata": {
    "tags": []
   },
   "outputs": [],
   "source": [
    "def build_profile(UserProfile):\n",
    "    profile = f\"Your customer is {UserProfile['Name']} located in {UserProfile['Location']}. They are in {UserProfile['Industry']} industry. Their mission statement: `{UserProfile['Mission']}.'\"\n",
    "    return profile"
   ]
  },
  {
   "cell_type": "code",
   "execution_count": null,
   "id": "a160eea9-b1da-4b58-8242-d24ec6e4a9db",
   "metadata": {
    "tags": []
   },
   "outputs": [],
   "source": [
    "def get_labels_and_desc(pattern, text):  \n",
    "    matches = re.findall(pattern, text)\n",
    "    myList = [] #(label, description)\n",
    "    for match in matches:\n",
    "        title = match[0]\n",
    "        description = match[1]\n",
    "        myList.append((title,description))\n",
    "    return myList"
   ]
  },
  {
   "cell_type": "code",
   "execution_count": null,
   "id": "8bf13bc4-e73d-42d5-8b1b-186a121edb59",
   "metadata": {
    "tags": []
   },
   "outputs": [],
   "source": [
    "def decode_base64_image(image_string):\n",
    "  base64_image = base64.b64decode(image_string)\n",
    "  buffer = io.BytesIO(base64_image)\n",
    "  return Image.open(buffer)\n",
    " \n",
    "# Display PIL images as grid\n",
    "def display_image(image=None,width=500,height=500):\n",
    "    img = image.resize((width, height))\n",
    "    display(img)"
   ]
  },
  {
   "cell_type": "markdown",
   "id": "be33a6ed",
   "metadata": {
    "ExecuteTime": {
     "end_time": "2024-01-22T22:47:57.456102Z",
     "start_time": "2024-01-22T22:47:57.408222Z"
    }
   },
   "source": [
    "## Define variables with SageMaker Model endpoints"
   ]
  },
  {
   "cell_type": "code",
   "execution_count": null,
   "id": "6aa5e8cd-4807-4187-b57f-559b7e65238d",
   "metadata": {
    "tags": []
   },
   "outputs": [],
   "source": [
    "model_llama3p1_endpoint = 'nous-research-Meta-Llama-3-8B-2024-10-12-22-52-51-435-endpoint'\n",
    "model_stablediffV1_endpoint = 'huggingface-pytorch-inference-neuronx-2024-10-10-20-28-26-629'"
   ]
  },
  {
   "cell_type": "markdown",
   "id": "202f050a-b4d4-44c6-aa84-f559b35afd3e",
   "metadata": {},
   "source": [
    "### Check the status of the endpoints"
   ]
  },
  {
   "cell_type": "code",
   "execution_count": null,
   "id": "2602b106-85ed-486e-8d36-29d854baaf78",
   "metadata": {
    "tags": []
   },
   "outputs": [],
   "source": [
    "resp = sm_client.describe_endpoint(EndpointName=model_llama3p1_endpoint)\n",
    "print(f\"Status for {model_llama3p1_endpoint}: {resp['EndpointStatus']}\")"
   ]
  },
  {
   "cell_type": "code",
   "execution_count": null,
   "id": "19514fd2-eb57-49ca-9e4a-fd8ab8adee44",
   "metadata": {
    "tags": []
   },
   "outputs": [],
   "source": [
    "resp = sm_client.describe_endpoint(EndpointName=model_stablediffV1_endpoint)\n",
    "print(f\"Status for {model_stablediffV1_endpoint}: {resp['EndpointStatus']}\")"
   ]
  },
  {
   "cell_type": "markdown",
   "id": "67196a08-02df-417b-91e5-1643fadc7136",
   "metadata": {},
   "source": [
    "## Example User Profiles\n",
    "Define a few sample profiles. These profiles define an Industry, a name for the company, location and a mission statement for the company."
   ]
  },
  {
   "cell_type": "code",
   "execution_count": null,
   "id": "09ff9bf6-2463-485a-9501-6904d14b6c6a",
   "metadata": {
    "tags": []
   },
   "outputs": [],
   "source": [
    "Profiles = {\n",
    "    'Construction-Example': {\n",
    "        'Name': 'Example Corp Construction Inc',\n",
    "        'Industry': 'Construction',\n",
    "        'Location': 'New York City, NY',\n",
    "        'Mission': 'Building a sustainable future for New York'\n",
    "    },\n",
    "    'Manufacturing-Example': {\n",
    "        'Name': 'Example Corp Manuf LLC',\n",
    "        'Industry': 'Manufacturing',\n",
    "        'Location': 'San Jose, CA',\n",
    "        'Mission': 'Building the next generation Electric Vehicles'\n",
    "    },\n",
    "    'Mining-Example': {\n",
    "        'Name': 'Example Corp Mining Inc',\n",
    "        'Industry': 'Mining',\n",
    "        'Location': 'Bisbee, AZ',\n",
    "        'Mission': 'Extracting the value for America'\n",
    "    }\n",
    "}"
   ]
  },
  {
   "cell_type": "markdown",
   "id": "7aa0e831-0401-409c-84ff-2ca5658e2bc7",
   "metadata": {},
   "source": [
    "### Define Inputs (content) for the website"
   ]
  },
  {
   "cell_type": "markdown",
   "id": "db12a155-60b9-43fc-a0ae-5b8294e06853",
   "metadata": {},
   "source": [
    "The homepage of a company often has it's offerings, few testimonials from customers, icons, etc. Let's now define some base content for these."
   ]
  },
  {
   "cell_type": "markdown",
   "id": "14eed192-174f-4e62-bec7-b8e1b592acad",
   "metadata": {},
   "source": [
    "Let's start with choosing an industry for your company."
   ]
  },
  {
   "cell_type": "code",
   "execution_count": null,
   "id": "544971ca-40c8-4795-9fcf-588dc1816ddd",
   "metadata": {
    "tags": []
   },
   "outputs": [],
   "source": [
    "dropdown = widgets.Dropdown(\n",
    "       options=['Manufacturing', 'Construction', 'Mining'],\n",
    "       value='Manufacturing',\n",
    "       description='Select your example industry:',\n",
    "   )"
   ]
  },
  {
   "cell_type": "markdown",
   "id": "3b77eaa6-165b-4c86-ac04-9a32a46a962e",
   "metadata": {},
   "source": [
    "### Select an Industry for your company"
   ]
  },
  {
   "cell_type": "code",
   "execution_count": null,
   "id": "aa35177c-81d3-44e3-a68c-a587995c2551",
   "metadata": {
    "tags": []
   },
   "outputs": [],
   "source": [
    "display(dropdown)"
   ]
  },
  {
   "cell_type": "markdown",
   "id": "0f6f7f32-d862-4687-abe2-2486ec44fc76",
   "metadata": {},
   "source": [
    "### Offerings\n",
    "\n",
    "Read some pre-defined offerings for each Industry. In practice, this will be a document that has the offerings of your company."
   ]
  },
  {
   "cell_type": "code",
   "execution_count": null,
   "id": "a10ef5f1-df72-4df6-88af-e4bc59955c65",
   "metadata": {
    "tags": []
   },
   "outputs": [],
   "source": [
    "with open(\"./references/offerings.json\", \"r\") as file:\n",
    "    offerings = json.load(file)"
   ]
  },
  {
   "cell_type": "code",
   "execution_count": null,
   "id": "5f8f72bf-12fe-4231-b44d-4f4edccc9ebf",
   "metadata": {
    "tags": []
   },
   "outputs": [],
   "source": [
    "customer= Profiles[dropdown.value+'-Example']\n",
    "offering = re.sub(r'\\n#?', ' ', offerings[customer['Industry']])\n",
    "project = dropdown.value + \"_Website_Test\""
   ]
  },
  {
   "cell_type": "code",
   "execution_count": null,
   "id": "756949bb-4862-494b-b2b3-689dfc967ecc",
   "metadata": {
    "tags": []
   },
   "outputs": [],
   "source": [
    "print(f\"Selected Customer:\\n{customer}\")"
   ]
  },
  {
   "cell_type": "markdown",
   "id": "373ebf30-bbb3-4ac0-9b29-ced37cc10792",
   "metadata": {},
   "source": [
    "#### Natural Language description of customer profile"
   ]
  },
  {
   "cell_type": "code",
   "execution_count": null,
   "id": "69555c15-b24c-402b-b454-f1e20140e721",
   "metadata": {
    "tags": []
   },
   "outputs": [],
   "source": [
    "customer['Description'] = build_profile(customer)\n",
    "print(customer['Description'])"
   ]
  },
  {
   "cell_type": "markdown",
   "id": "a6e7358b-dbc9-4f3b-b009-e6740289d0c3",
   "metadata": {},
   "source": [
    "### Testimonials\n",
    "Read some pre-defined testimonials for each Industry."
   ]
  },
  {
   "cell_type": "code",
   "execution_count": null,
   "id": "c6aa45ff-017c-4723-ba42-da9b0bda9886",
   "metadata": {
    "tags": []
   },
   "outputs": [],
   "source": [
    "with open('./references/Testimonials.json', 'r') as file:\n",
    "    testimonials = json.load(file)"
   ]
  },
  {
   "cell_type": "markdown",
   "id": "350661cc-f978-4b99-8bc0-6beb3fb2716e",
   "metadata": {},
   "source": [
    "### Retrieve painpoints of a customer industry\n",
    "We now read a file corresponding to the pain-points and challenges corresponding to the industry you have chosen above. In a real use case, you might have a collection of documents with these details and you can leverage RAG to get a blurb of challenges that are relevant for your company.\n",
    "\n",
    "In this scenario, we just read the entire file that has multiple challenges."
   ]
  },
  {
   "cell_type": "code",
   "execution_count": null,
   "id": "bdab9a97-a2e1-44c6-a098-e7d70b367b8c",
   "metadata": {
    "tags": []
   },
   "outputs": [],
   "source": [
    "query = f\"{customer['Description']}\\nList the industry pain-points and challenges\"\n",
    "print(f\"Here is your customer:\\n{query}\")"
   ]
  },
  {
   "cell_type": "code",
   "execution_count": null,
   "id": "3fd820d5-2c23-4267-89b6-c704e282c235",
   "metadata": {
    "tags": []
   },
   "outputs": [],
   "source": [
    "with open('references/KnowledgeBase/Manufacturing-Industry-DummyArticle-01.txt', 'r') as file:\n",
    "    contexts_painpoints = file.read()\n",
    "\n",
    "print(f\"These are the applicable pain-points/challenges:\\n{contexts_painpoints}\")"
   ]
  },
  {
   "cell_type": "markdown",
   "id": "7e7f2ad0-765a-47ee-ab4b-5f77c869a5d1",
   "metadata": {},
   "source": [
    "## Prompting AI to describe a website personalized for this profile and background\n",
    "\n",
    "We now get to the crux of the application where we leverage LLMs to create the content for the website.\n",
    "\n",
    "Here the design of the prompt is critical. Please see the guidance provided to the LLM in the below prompt. We also ask the response to be in two parts: \n",
    "1. Description\n",
    "2. Visual Elements."
   ]
  },
  {
   "cell_type": "markdown",
   "id": "c7d5070d-2ccf-47eb-90ba-dd2a78815012",
   "metadata": {},
   "source": [
    "### Finding the possible painpoints using a LLM\n",
    "\n",
    "We now create a prompt with the 'painpoints' from above as context. Please ensure that the number of tokens in the context (and prompt) <= 512 + sequence length with which the llama 3.1 8B model was compiled for. Else, you'll run into an error."
   ]
  },
  {
   "cell_type": "code",
   "execution_count": null,
   "id": "4e42c5c0-44b0-472f-b955-36ad6c08f0f7",
   "metadata": {
    "tags": []
   },
   "outputs": [],
   "source": [
    "prompt = f\"\"\"\n",
    "<|begin_of_text|>\n",
    "<|start_header_id|>system<|end_header_id|>\n",
    "You are an experienced business consultant.\n",
    "<|eot_id|><|start_header_id|>user<|end_header_id|>\n",
    "*** Research Document ***\n",
    "{contexts_painpoints}\n",
    "*** End of Research Document ***\n",
    "\n",
    "\n",
    "Question: {customer['Description']} Based on the above research, list top-3 challenges and explain we understand their challanges. Do not use any company name.\n",
    "Provide your response in bullet points without any preamble (e.g. \u2022 a pain-point: one sentence description, \u2022 pain-point: one sentence description, etc.). \n",
    "\n",
    "\"\"\"\n",
    "params = {\"max_new_tokens\": 512, \"do_sample\": False}"
   ]
  },
  {
   "cell_type": "markdown",
   "id": "a8b7874c-e6b1-48b0-94ef-e1bec4e73859",
   "metadata": {},
   "source": [
    "Invoke the LLM"
   ]
  },
  {
   "cell_type": "code",
   "execution_count": null,
   "id": "b32bb5c2-e171-49b4-bd7d-75b1f9bdc303",
   "metadata": {
    "tags": []
   },
   "outputs": [],
   "source": [
    "%%time\n",
    "response_model= smr_client.invoke_endpoint(\n",
    "    EndpointName=model_llama3p1_endpoint,\n",
    "    Body=json.dumps({\"inputs\": prompt, \"parameters\": params}),\n",
    "    ContentType=\"application/json\",\n",
    ")\n",
    "response_painpoints = json.load(response_model['Body'])\n",
    "top_pain_points_text= response_painpoints['generated_text'].split('<|eot_id|>')[0].replace('\\n',', ')\n",
    "print(f\"Raw Output - top painpoints:\\n{top_pain_points_text}\\n\")"
   ]
  },
  {
   "cell_type": "code",
   "execution_count": null,
   "id": "1a4e4021-7a94-4c3b-b84b-6a53a3eb97fc",
   "metadata": {
    "tags": []
   },
   "outputs": [],
   "source": [
    "# Convert this into a function\n",
    "pattern = r'\u2022\\s*(.*?):\\s*(.*?)\\.'\n",
    "top_painpoints = get_labels_and_desc(pattern, top_pain_points_text)\n",
    "[print(f\"{key}: {value}\\n\")for (key, value) in top_painpoints]"
   ]
  },
  {
   "cell_type": "markdown",
   "id": "7c2349b1-cca8-4f1c-8e7f-227dccbec480",
   "metadata": {},
   "source": [
    "### Finding the personalized offerings using LLM\n",
    "\n",
    "We now use the pre-defined offerings as context to generate content corresponding to top offerings that will be advertised on the website."
   ]
  },
  {
   "cell_type": "code",
   "execution_count": null,
   "id": "c9ee3040-42b2-462c-a161-9b3ec34449e9",
   "metadata": {
    "tags": []
   },
   "outputs": [],
   "source": [
    "prompt = f\"\"\"\n",
    "<|begin_of_text|>\n",
    "<|start_header_id|>system<|end_header_id|>\n",
    "You are an experienced business consultant.\n",
    "<|eot_id|><|start_header_id|>user<|end_header_id|>\n",
    "*** Offerings Document ***\n",
    "{offering}\n",
    "*** Offerings Document ***\n",
    "\n",
    "\n",
    "Question: {customer['Description']} Their top-3 painpoints are {top_painpoints}.\n",
    "\n",
    "List and briefly advertise the top-3 offerings for {customer['Name']} based on the offerings document above.\n",
    "Provide your list in bullet points without any preamble (e.g. \u2022 an offering: short description, \u2022 an offering: short description, ...). \n",
    "<|eot_id|><|start_header_id|>assistant<|end_header_id|>\n",
    "\n",
    "\"\"\"\n",
    "params = {\"max_new_tokens\": 384, \"do_sample\": False}"
   ]
  },
  {
   "cell_type": "markdown",
   "id": "55ec34ce-9f78-46b4-bd69-5717b41f31db",
   "metadata": {},
   "source": [
    "Invoke the model."
   ]
  },
  {
   "cell_type": "code",
   "execution_count": null,
   "id": "1dae77cc-1eaf-481c-803a-69462101102f",
   "metadata": {
    "tags": []
   },
   "outputs": [],
   "source": [
    "%%time\n",
    "response_model = smr_client.invoke_endpoint(\n",
    "    EndpointName=model_llama3p1_endpoint,\n",
    "    Body=json.dumps({\"inputs\": prompt, \"parameters\": params}),\n",
    "    ContentType=\"application/json\",\n",
    ")\n",
    "response_offerings = json.load(response_model['Body'])\n",
    "top_offerings_text= response_offerings['generated_text'].split('<|eot_id|>')[0].replace('\\n',', ')\n",
    "print(f\"Raw Output - top offerings:\\n{top_offerings_text}\\n\")"
   ]
  },
  {
   "cell_type": "code",
   "execution_count": null,
   "id": "b81f4006-0384-4dd7-bc55-1fac908c1500",
   "metadata": {
    "tags": []
   },
   "outputs": [],
   "source": [
    "# Convert this into a function\n",
    "pattern = r'\u2022\\s*(.*?):\\s*(.*?)\\.'\n",
    "top_offerings = get_labels_and_desc(pattern, top_offerings_text)\n",
    "[print(f\"{key}: {value}\\n\")for (key, value) in top_offerings]"
   ]
  },
  {
   "cell_type": "markdown",
   "id": "64237857-24ba-4634-9aa8-791bd39dbd0c",
   "metadata": {},
   "source": [
    "### Art Design\n",
    "\n",
    "We now create a prompt that is used to generate descriptions for images and icons that will be embedded in the website. Note that the prompt asks the model to generate the output in a structured format."
   ]
  },
  {
   "cell_type": "code",
   "execution_count": null,
   "id": "40257a52-26da-4c8f-b178-85d335ff4006",
   "metadata": {
    "tags": []
   },
   "outputs": [],
   "source": [
    "prompt = f\"\"\"\n",
    "<|begin_of_text|>\n",
    "<|start_header_id|>system<|end_header_id|>\n",
    "You are a UI/UX art designer personalizing visual website content such as hero image and icons tailored to customer profile, personalized offerings and pain-points. \n",
    "Your task is to describe a hero image and six icons. For the Hero Image, design an attention-grabbing image that relates to the customer's industry, location, and mission. For icons, design simple, memorable icons that visually represent the concepts.\n",
    "\n",
    "Customer Profile:\n",
    "- Industry: {customer['Industry']}\n",
    "- Location: {customer['Location']}\n",
    "- Company Motto/Mission: {customer['Mission']}\n",
    "\n",
    "For the Hero Image:\n",
    "- Describe a scene that represents the customer's industry and mission\n",
    "- Include elements that reflect the customer location\n",
    "- Mention 1-2 key visual elements\n",
    "\n",
    "For each icon:\n",
    "- Describe a simple, recognizable shape or symbol\n",
    "- Concisely describe the key visual element\n",
    "- Call our that this is an 'icon'\n",
    "\n",
    "Each icon should be distinct yet part of a cohesive set in style and color.\n",
    "\n",
    "<|eot_id|><|start_header_id|>user<|end_header_id|>\n",
    "\n",
    "Provide your response in the following structured format:\n",
    "\n",
    "** Hero Image[Description in 1-2 sentences]**\n",
    "** {top_painpoints[0][0]} Icon [Description in one sentence]**\n",
    "** {top_painpoints[1][0]} Icon [Description in one sentence]**\n",
    "** {top_painpoints[2][0]} Icon [Description in one sentence]**\n",
    "** {top_offerings[0][0]} Icon [Description in one sentence]**\n",
    "** {top_offerings[1][0]} Icon [Description in one sentence]**\n",
    "** {top_offerings[2][0]} Icon [Description in one sentence]**\n",
    "\n",
    "Provide your response using the exact format above, without any preamble.\n",
    "<|eot_id|><|start_header_id|>assistant<|end_header_id|>\n",
    "\"\"\"\n",
    "params = {\"max_new_tokens\": 512, \"do_sample\": False}"
   ]
  },
  {
   "cell_type": "markdown",
   "id": "d7d69e13-bef5-4f98-b048-96233e97d049",
   "metadata": {},
   "source": [
    "Invoke the model."
   ]
  },
  {
   "cell_type": "code",
   "execution_count": null,
   "id": "55844632-04bc-4ee7-b54a-2b8ca2bd4fba",
   "metadata": {
    "scrolled": true,
    "tags": []
   },
   "outputs": [],
   "source": [
    "%%time\n",
    "response_model = smr_client.invoke_endpoint(\n",
    "    EndpointName=model_llama3p1_endpoint,\n",
    "    Body=json.dumps({\"inputs\": prompt, \"parameters\": params}),\n",
    "    ContentType=\"application/json\",\n",
    ")\n",
    "response_art= json.load(response_model['Body'])\n",
    "art_descriptions_text = response_art['generated_text'].split('<|eot_id|>')[0]\\\n",
    "                        .replace('\\n',', ').replace(', ,', '').replace('**,','**')\n",
    "print(f\"Raw Output - top offerings:\\n{art_descriptions_text}\\n\")"
   ]
  },
  {
   "cell_type": "code",
   "execution_count": null,
   "id": "1952d8e4-ff5d-4909-9333-6e1ca754bfda",
   "metadata": {
    "tags": []
   },
   "outputs": [],
   "source": [
    "# Creating the variable for the art descriptions that will help us to create a better prompt later\n",
    "art_descriptions = art_descriptions_text.split(\"**\")[1:]\n",
    "art_descriptions = {art_descriptions[i].strip():{\"Description\":art_descriptions[i+1].strip(), \\\n",
    "                    'FileName':art_descriptions[i].replace(' ','')+'.jpg'} for i in range(0,int(len(art_descriptions)),2)}"
   ]
  },
  {
   "cell_type": "code",
   "execution_count": null,
   "id": "334da1cf-3a35-4ae1-b25f-f4c6a510de5d",
   "metadata": {
    "scrolled": true,
    "tags": []
   },
   "outputs": [],
   "source": [
    "print(f\"Here is the art and their descriptions:\\n {json.dumps(art_descriptions, indent=4)}\")"
   ]
  },
  {
   "cell_type": "markdown",
   "id": "9ec42c7f-1edf-440d-b283-9b385bcd725a",
   "metadata": {},
   "source": [
    "### Call to action, hero labels and description - final touches\n",
    "\n",
    "Use the LLM one final time to generate a catchy slogan and call-to-action."
   ]
  },
  {
   "cell_type": "code",
   "execution_count": null,
   "id": "1a83b714-ec61-494f-b031-dfe0cdd8c3b7",
   "metadata": {
    "tags": []
   },
   "outputs": [],
   "source": [
    "prompt = f\"\"\"\n",
    "<|begin_of_text|>\n",
    "<|start_header_id|>system<|end_header_id|>\n",
    "You are creating engaging website content for AnyCompany Consulting, which is a business consulting company. \n",
    "Your task is to generate four specific pieces of text based on the customer profile and offerings provided.\n",
    "\n",
    "Customer Profile:\n",
    "- Industry: {customer['Industry']}\n",
    "- Location: {customer['Location']}\n",
    "- Company Motto/Mission: {customer['Mission']}\n",
    "\n",
    "Hero image: {art_descriptions['Hero Image']['Description']}\n",
    "\n",
    "Industry painpoints:\n",
    "- {top_painpoints[0][0]}\n",
    "- {top_painpoints[1][0]}\n",
    "- {top_painpoints[2][0]}\n",
    "\n",
    "AnyCompany Consulting offerings:\n",
    "- {top_offerings[0][0]}\n",
    "- {top_offerings[1][0]}\n",
    "- {top_offerings[2][0]}\n",
    "\n",
    "<|eot_id|><|start_header_id|>user<|end_header_id|>\n",
    "\n",
    "Generate the following four pieces of text:\n",
    "1. Hero Label: A short, attention-grabbing phrase to work with AnyCompany Consulting (5-7 words)\n",
    "2. Hero Text: A brief explanation expanding on the label (15-20 words)\n",
    "3. Call-to-Action Button: A short, action-oriented phrase (3-5 words)\n",
    "4. Call-to-Action Explanation: A motivating statement to encourage engagement with AnyCompany Consulting (15-20 words)\n",
    "\n",
    "Use this exact format for your response:\n",
    "\n",
    "** Hero Label **\n",
    "** Hero Text **\n",
    "** Call-to-Action Button **\n",
    "** Call-to-Action Explanation **\n",
    "\n",
    "Ensure each piece of text relates to the customer's industry, pain points, and the consulting offerings. \n",
    "Focus on engaging the customer and encouraging them to work with AnyCompany Consulting.\n",
    "Provide your response using the exact format above, without any preamble.\n",
    "<|eot_id|><|start_header_id|>assistant<|end_header_id|>\n",
    "\"\"\"\n",
    "params = {\"max_new_tokens\": 512, \"do_sample\": False}"
   ]
  },
  {
   "cell_type": "markdown",
   "id": "fba14b7f-007c-4f36-91e8-e767b551b869",
   "metadata": {},
   "source": [
    "Invoke the model."
   ]
  },
  {
   "cell_type": "code",
   "execution_count": null,
   "id": "4018e913-4af8-403b-b91d-4c1e381ba6d1",
   "metadata": {
    "scrolled": true,
    "tags": []
   },
   "outputs": [],
   "source": [
    "%%time\n",
    "response_model = smr_client.invoke_endpoint(\n",
    "    EndpointName=model_llama3p1_endpoint,\n",
    "    Body=json.dumps({\"inputs\": prompt, \"parameters\": params}),\n",
    "    ContentType=\"application/json\",\n",
    ")\n",
    "response_text= json.load(response_model['Body'])\n",
    "text_descriptions_text = response_text['generated_text'].split('<|eot_id|>')[0]\\\n",
    "                        .replace('\\n',', ').replace(', ,', '').replace('**, ','**')\n",
    "print(f\"Raw Output - Description of critical text:\\n{text_descriptions_text}\\n\")"
   ]
  },
  {
   "cell_type": "code",
   "execution_count": null,
   "id": "de4231db-184b-4a07-803e-ee9eb11a9ba2",
   "metadata": {
    "tags": []
   },
   "outputs": [],
   "source": [
    "text_descriptions_lst = text_descriptions_text.split('**')\n",
    "text_descriptions_lst = [x for x in text_descriptions_lst if x is not '']\n",
    "text_descriptions = {\"HeroLabel\":text_descriptions_lst[0], \"HeroText\":text_descriptions_lst[1], \"CTALabel\":text_descriptions_lst[2] ,\"CTAText\":text_descriptions_lst[3]}"
   ]
  },
  {
   "cell_type": "code",
   "execution_count": null,
   "id": "5008ce66-dd49-4e40-9e1b-4c735700e095",
   "metadata": {
    "tags": []
   },
   "outputs": [],
   "source": [
    "print(text_descriptions)"
   ]
  },
  {
   "cell_type": "markdown",
   "id": "19d7eaa5-3534-4b0e-9dfc-1683a5783a2b",
   "metadata": {},
   "source": [
    "### Image Creation based on Image Descriptions"
   ]
  },
  {
   "cell_type": "markdown",
   "id": "f2f5cb25-c691-457c-be07-532579a75599",
   "metadata": {},
   "source": [
    "We now create images and icons for the website using Stable Diffusion. The descriptions that were generated in the previous step are used as prompts to the Stable Diffusion model. We successively call the APIs and then save the files."
   ]
  },
  {
   "cell_type": "code",
   "execution_count": null,
   "id": "7f453a0f-74d0-4e61-8e11-c25e5150f168",
   "metadata": {
    "tags": []
   },
   "outputs": [],
   "source": [
    "%%time\n",
    "# WE HAVE TO OPTIMIZE THIS FOR ICONS.\n",
    "from sagemaker.huggingface.model import HuggingFacePredictor\n",
    "predictor_SDv1 = HuggingFacePredictor(model_stablediffV1_endpoint)\n",
    "\n",
    "images = []\n",
    "image_files = []\n",
    "for art, content in art_descriptions.items():\n",
    "    if 'Icon' in art:\n",
    "        inf_steps = 30\n",
    "    else:\n",
    "        inf_steps = 50\n",
    "\n",
    "    params = {\n",
    "    \"num_inference_steps\" : inf_steps,\n",
    "    \"negative_prompt\" : \"disfigured, ugly, deformed, unprofessional\"\n",
    "    }\n",
    "    \n",
    "    prompt = content['Description']\n",
    "    response = predictor_SDv1.predict(data={\"inputs\": prompt,\"parameters\":params})\n",
    "\n",
    "    image = decode_base64_image(response[\"generated_images\"][0])\n",
    "    image_files.append(content['FileName'])\n",
    "\n",
    "    # Save the image\n",
    "    image.save(f\"{content['FileName']}\")\n",
    "    images.append(np.array(image))"
   ]
  },
  {
   "cell_type": "code",
   "execution_count": null,
   "id": "ae17de99-ea8c-4c87-8dfb-ead45b5ef69d",
   "metadata": {
    "tags": []
   },
   "outputs": [],
   "source": [
    "print(\"Number of visual assets created: {}\".format(len(image_files)))"
   ]
  },
  {
   "cell_type": "code",
   "execution_count": null,
   "id": "4843ea20-a727-47a6-ae04-8c1f95a47f38",
   "metadata": {
    "tags": []
   },
   "outputs": [],
   "source": [
    "shutil.copy(\"./references/anycompany_logo.jpg\", \"./anycompany_logo.jpg\")"
   ]
  },
  {
   "cell_type": "markdown",
   "id": "d78a5af5-34f4-4f3c-bc87-bf567ed2c9bf",
   "metadata": {},
   "source": [
    "Let's plot the images generated"
   ]
  },
  {
   "cell_type": "code",
   "execution_count": null,
   "id": "d30cdd8f-a310-44a8-9816-d9cbd58d60b1",
   "metadata": {
    "scrolled": true,
    "tags": []
   },
   "outputs": [],
   "source": [
    "# Plot the images\n",
    "fig, axs = plt.subplots(1, len(images), figsize=(30, 20))\n",
    "\n",
    "for i, (image, ax, filename) in enumerate(zip(images, axs, image_files)):\n",
    "    ax.imshow(image)\n",
    "    ax.set_title(filename, fontsize=16)\n",
    "    ax.axis('off')\n",
    "\n",
    "plt.tight_layout()\n",
    "plt.show()"
   ]
  },
  {
   "cell_type": "markdown",
   "id": "db50077f-3e5b-41f8-90a9-e60e2f46d3c4",
   "metadata": {},
   "source": [
    "### Let's Generate our HTML file"
   ]
  },
  {
   "cell_type": "markdown",
   "id": "1e49c09f-47da-4b48-a251-55963da574ec",
   "metadata": {},
   "source": [
    "The html file combines the images and text generated above to create the website. You can also consider using a code generation model to generate the html file. For the purpose of this session, we use an existing html template."
   ]
  },
  {
   "cell_type": "code",
   "execution_count": null,
   "id": "c12b144c-413e-45e2-b06c-49d686d42b08",
   "metadata": {
    "tags": []
   },
   "outputs": [],
   "source": [
    "CSS_section = open('./references/CSS.txt', 'r').read()\n",
    "CSS_section = CSS_section.replace(\"hero-image.jpg\", art_descriptions['Hero Image']['FileName'])\n",
    "JS_section = open('./references/JS.txt', 'r').read()\n",
    "full_html = f\"\"\"\n",
    "<!DOCTYPE html>\n",
    "<html lang=\"en\">\n",
    "<head>\n",
    "  <meta charset=\"UTF-8\">\n",
    "  <meta name=\"viewport\" content=\"width=device-width, initial-scale=1.0\">\n",
    "  <title>AnyCompany Consulting Personalized Page</title>\n",
    "  <style>\n",
    "{CSS_section}\n",
    "  </style>\n",
    "</head>\n",
    "<body>\n",
    "  <header>\n",
    "    <div class=\"logo\">\n",
    "      <img src=\"anycompany_logo.jpg\" alt=\"AnyCompany Consulting\">\n",
    "    </div>\n",
    "    <nav>\n",
    "      <ul>\n",
    "        <li><a href=\"#\">Home</a></li>\n",
    "        <li><a href=\"#\">About Us</a></li>\n",
    "        <li><a href=\"#\">Services</a></li>\n",
    "        <li><a href=\"#\">Projects</a></li>\n",
    "        <li><a href=\"#\">Resources</a></li>\n",
    "        <li><a href=\"#\">Contact</a></li>\n",
    "      </ul>\n",
    "    </nav>\n",
    "  </header>\n",
    "  <main>\n",
    "    <section class=\"hero\">\n",
    "      <h1>{text_descriptions['HeroLabel']}</h1>\n",
    "      <p>{text_descriptions['HeroText']}</p>\n",
    "    </section>\n",
    "    <section class=\"offerings\">\n",
    "      <h2>Our Tailored Solutions for Your {customer['Industry']} Needs</h2>\n",
    "      <div class=\"offerings-grid\">\n",
    "        <div class=\"offering-card\">\n",
    "          <img src=\"{art_descriptions[top_offerings[0][0]+' Icon']['FileName']}\" alt=\"{top_offerings[0][0]}\">\n",
    "          <h3>{top_offerings[0][0]}</h3>\n",
    "          <p>{top_offerings[0][1]}</p>\n",
    "        </div>\n",
    "        <div class=\"offering-card\">\n",
    "          <img src=\"{art_descriptions[top_offerings[1][0]+' Icon']['FileName']}\" alt=\"{top_offerings[1][0]}\">\n",
    "          <h3>{top_offerings[1][0]}</h3>\n",
    "          <p>{top_offerings[1][1]}</p>\n",
    "        </div>\n",
    "        <div class=\"offering-card\">\n",
    "          <img src=\"{art_descriptions[top_offerings[2][0]+' Icon']['FileName']}\" alt=\"{top_offerings[2][0]}\">\n",
    "          <h3>{top_offerings[2][0]}</h3>\n",
    "          <p>{top_offerings[2][1]}</p>\n",
    "        </div>\n",
    "      </div>\n",
    "    </section>\n",
    "    <section class=\"pain-points\">\n",
    "      <h2>Addressing Your {customer['Industry']} Challenges</h2>\n",
    "      <div class=\"pain-points-grid\">\n",
    "        <div class=\"pain-point-card\">\n",
    "          <img src=\"{art_descriptions[top_painpoints[0][0]+' Icon']['FileName']}\" alt=\"{top_painpoints[0][0]}\">\n",
    "          <h3>{top_painpoints[0][0]}</h3>\n",
    "          <p>{top_painpoints[0][1]}</p>\n",
    "        </div>\n",
    "        <div class=\"pain-point-card\">\n",
    "          <img src=\"{art_descriptions[top_painpoints[1][0]+' Icon']['FileName']}\" alt=\"{top_painpoints[1][0]}\">\n",
    "          <h3>{top_painpoints[1][0]}</h3>\n",
    "          <p>{top_painpoints[1][1]}</p>\n",
    "        </div>\n",
    "        <div class=\"pain-point-card\">\n",
    "          <img src=\"{art_descriptions[top_painpoints[2][0]+' Icon']['FileName']}\" alt=\"{top_painpoints[2][0]}\">\n",
    "          <h3>{top_painpoints[2][0]}</h3>\n",
    "          <p>{top_painpoints[2][1]}</p>\n",
    "        </div>\n",
    "      </div>\n",
    "    </section>\n",
    "    <section class=\"testimonials\">\n",
    "      <h2>What Our Clients Say</h2>\n",
    "      <div class=\"testimonial-container\">\n",
    "        <div class=\"testimonial\" style=\"display: none;\">\n",
    "          <p class=\"testimonial-text\">{testimonials['testimonials'][0]['text']}</p>\n",
    "          <p class=\"testimonial-author\">- {testimonials['testimonials'][0]['author']}, {testimonials['testimonials'][0]['position']} from {testimonials['testimonials'][0]['company']}</p>\n",
    "        </div>\n",
    "        <div class=\"testimonial\" style=\"display: none;\">\n",
    "          <p class=\"testimonial-text\">{testimonials['testimonials'][1]['text']}</p>\n",
    "          <p class=\"testimonial-author\">- {testimonials['testimonials'][1]['author']}, {testimonials['testimonials'][1]['position']} from {testimonials['testimonials'][1]['company']}</p>\n",
    "        </div>\n",
    "        <div class=\"testimonial\" style=\"display: none;\">\n",
    "          <p class=\"testimonial-text\">{testimonials['testimonials'][2]['text']}</p>\n",
    "          <p class=\"testimonial-author\">- {testimonials['testimonials'][2]['author']}, {testimonials['testimonials'][2]['position']} from {testimonials['testimonials'][2]['company']}</p>\n",
    "        </div>\n",
    "      </div>\n",
    "    </section>\n",
    "    <section class=\"cta\">\n",
    "      <h2>{text_descriptions['CTALabel']}</h2>\n",
    "      <p>{text_descriptions['CTAText']}</p>\n",
    "      <a href=\"#\" class=\"cta-button\">Get Started</a>\n",
    "    </section>\n",
    "  </main>\n",
    "  <footer>\n",
    "    <p>&copy; 2024 AnyCompany Consulting. All rights reserved.</p>\n",
    "    <p>\n",
    "      <a href=\"#\">Address</a> | <a href=\"#\">Phone</a> | <a href=\"#\">Email</a>\n",
    "    </p>\n",
    "  </footer>\n",
    "  <script>\n",
    "  {JS_section}\n",
    "  </script>\n",
    "</body>\n",
    "</html>\n",
    "\"\"\""
   ]
  },
  {
   "cell_type": "markdown",
   "id": "1d3130d5-c579-449c-873f-4d96c37bb2ef",
   "metadata": {},
   "source": [
    "### Putting the assets into a single folder"
   ]
  },
  {
   "cell_type": "markdown",
   "id": "5907b15d-1d9a-4ab9-8fa7-f27947c4b525",
   "metadata": {},
   "source": [
    "Create the folder for the project"
   ]
  },
  {
   "cell_type": "code",
   "execution_count": null,
   "id": "45657a3b-ac82-45de-8b82-8f755d255ed2",
   "metadata": {
    "tags": []
   },
   "outputs": [],
   "source": [
    "try:\n",
    "    os.mkdir(project)\n",
    "    print(f\"Project Folder: {project}\" + '_reInvent')\n",
    "except Exception as e:\n",
    "    print(f\"An error occurred: {e}\")"
   ]
  },
  {
   "cell_type": "code",
   "execution_count": null,
   "id": "fef9a122-b51d-4710-9c58-a30acaf8bf87",
   "metadata": {
    "tags": []
   },
   "outputs": [],
   "source": [
    "from IPython.display import HTML"
   ]
  },
  {
   "cell_type": "code",
   "execution_count": null,
   "id": "00768801-d471-4b85-b089-2b62a7afdcdd",
   "metadata": {
    "tags": []
   },
   "outputs": [],
   "source": [
    "with open('main.html', 'w', encoding='utf-8') as file:\n",
    "    file.write(full_html)"
   ]
  },
  {
   "cell_type": "code",
   "execution_count": null,
   "id": "5168e46a-a580-4c91-8fa5-24e7103e1313",
   "metadata": {
    "tags": []
   },
   "outputs": [],
   "source": [
    "project_files = image_files.copy()\n",
    "project_files.append('main.html')\n",
    "project_files.append('anycompany_logo.jpg')"
   ]
  },
  {
   "cell_type": "markdown",
   "id": "7d5dbe13-75d7-4af9-8934-aa5809c7f2f5",
   "metadata": {},
   "source": [
    "Copy the generated files and the html file to the project folder."
   ]
  },
  {
   "cell_type": "code",
   "execution_count": null,
   "id": "48a7dc3f-ce9d-45ac-a06d-9f4e02bbe868",
   "metadata": {
    "scrolled": true,
    "tags": []
   },
   "outputs": [],
   "source": [
    "for file in project_files:\n",
    "    destination = project + \"/\" + file\n",
    "    shutil.move(file, destination)"
   ]
  },
  {
   "cell_type": "markdown",
   "id": "b9227d45-ed4c-422a-a1df-e1f6f589489a",
   "metadata": {},
   "source": [
    "## You can now download the folder and view the html in a browser. You have successfully generated a website using Generative AI !!"
   ]
  }
 ],
 "metadata": {
  "kernelspec": {
   "display_name": "conda_python3",
   "language": "python",
   "name": "conda_python3"
  },
  "language_info": {
   "codemirror_mode": {
    "name": "ipython",
    "version": 3
   },
   "file_extension": ".py",
   "mimetype": "text/x-python",
   "name": "python",
   "nbconvert_exporter": "python",
   "pygments_lexer": "ipython3",
   "version": "3.10.14"
  }
 },
 "nbformat": 4,
 "nbformat_minor": 5
}