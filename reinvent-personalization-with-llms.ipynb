{
 "cells": [
  {
   "cell_type": "markdown",
   "id": "359ef86573837a2a",
   "metadata": {},
   "source": [
    "# Let's Build Personalized Website\n",
    "\n",
    "Notes: \n",
    "1. Use the native Jupyter Notebook to leverage the full features of this notebook\n",
    "2. Ensure you have Bedrock connection with access to Titan Models "
   ]
  },
  {
   "cell_type": "markdown",
   "id": "dcac26309b11cf46",
   "metadata": {},
   "source": [
    "## 1. Import Libraries"
   ]
  },
  {
   "cell_type": "code",
   "execution_count": null,
   "id": "c1208d2cf05499b3",
   "metadata": {
    "ExecuteTime": {
     "end_time": "2024-01-22T22:50:21.868106Z",
     "start_time": "2024-01-22T22:50:21.806873Z"
    }
   },
   "outputs": [],
   "source": [
    "import warnings\n",
    "warnings.filterwarnings('ignore')\n",
    "\n",
    "import base64\n",
    "import boto3\n",
    "import io\n",
    "import os\n",
    "import json\n",
    "import re\n",
    "import importlib\n",
    "import shutil\n",
    "import numpy as np\n",
    "import matplotlib.pyplot as plt\n",
    "\n",
    "from src import Bedrock\n",
    "\n",
    "from ipywidgets import widgets\n",
    "from IPython.core.display import display, HTML\n",
    "from PIL import Image\n"
   ]
  },
  {
   "cell_type": "code",
   "execution_count": null,
   "id": "a88cb554-a3ca-4eac-bcac-4196ab3f9fe5",
   "metadata": {},
   "outputs": [],
   "source": [
    "importlib.reload(Bedrock)"
   ]
  },
  {
   "cell_type": "markdown",
   "id": "325db3d1-363c-4e21-b217-b587c58dd804",
   "metadata": {},
   "source": [
    "### Useful functions"
   ]
  },
  {
   "cell_type": "code",
   "execution_count": null,
   "id": "dcef3c4a-a9ee-4448-9fab-2f97250df81d",
   "metadata": {},
   "outputs": [],
   "source": [
    "# fetch context from the response\n",
    "def get_contexts(retrievalResults):\n",
    "    total_text = \"\"\n",
    "    for result in retrievalResults.get(\"retrievalResults\", []):\n",
    "        content = result.get(\"content\", {})\n",
    "        text = content.get(\"text\", \"\")\n",
    "        # Remove the metadataAttributes content from the text\n",
    "        text = re.sub(r'\\{.*?metadataAttributes.*?\\}', '', text)\n",
    "        total_text += text\n",
    "    return total_text"
   ]
  },
  {
   "cell_type": "code",
   "execution_count": null,
   "id": "e670a8e0-a6e2-44cc-883c-77dd31eafb72",
   "metadata": {},
   "outputs": [],
   "source": [
    "def build_profile(UserProfile):\n",
    "    profile = 'Your customer is {}. Their industry is {}. They have {} employees. They are a {} company, located in {}.' \\\n",
    "    ' Their mission statement is `{}`.'.format(UserProfile['Name'],\n",
    "                                UserProfile['Industry'],\n",
    "                                UserProfile['CompanySize'],\n",
    "                                UserProfile['CompanyType'],\n",
    "                                UserProfile['Location'],\n",
    "                                UserProfile['Mission'])\n",
    "    return profile"
   ]
  },
  {
   "cell_type": "markdown",
   "id": "be33a6ed",
   "metadata": {
    "ExecuteTime": {
     "end_time": "2024-01-22T22:47:57.456102Z",
     "start_time": "2024-01-22T22:47:57.408222Z"
    }
   },
   "source": [
    "### Decelerations"
   ]
  },
  {
   "cell_type": "code",
   "execution_count": null,
   "id": "dbd02bdb",
   "metadata": {},
   "outputs": [],
   "source": [
    "# create general model inputs \n",
    "# do not edit any content in this section\n",
    "\n",
    "image_modelId = 'amazon.titan-image-generator-v1'\n",
    "model_id = {'Haiku': 'anthropic.claude-3-haiku-20240307-v1:0',\n",
    "           'Sonnet': 'anthropic.claude-3-sonnet-20240229-v1:0',\n",
    "           'StableDiff': 'stability.stable-diffusion-xl-v1'}"
   ]
  },
  {
   "cell_type": "code",
   "execution_count": null,
   "id": "6aa5e8cd-4807-4187-b57f-559b7e65238d",
   "metadata": {},
   "outputs": [],
   "source": [
    "# ENV VARIABLES\n",
    "kbId = '9OIYJNO1EE'"
   ]
  },
  {
   "cell_type": "markdown",
   "id": "7aa0e831-0401-409c-84ff-2ca5658e2bc7",
   "metadata": {},
   "source": [
    "### INPUT"
   ]
  },
  {
   "cell_type": "markdown",
   "id": "0f6f7f32-d862-4687-abe2-2486ec44fc76",
   "metadata": {},
   "source": [
    "Offerings"
   ]
  },
  {
   "cell_type": "code",
   "execution_count": null,
   "id": "a10ef5f1-df72-4df6-88af-e4bc59955c65",
   "metadata": {},
   "outputs": [],
   "source": [
    "with open(\"./references/offerings.json\", \"r\") as file:\n",
    "    offerings = json.load(file)"
   ]
  },
  {
   "cell_type": "markdown",
   "id": "2afa8e71-4ae4-46ce-9ffd-ba3d2841408f",
   "metadata": {},
   "source": [
    "User Profiles"
   ]
  },
  {
   "cell_type": "code",
   "execution_count": null,
   "id": "d468c3de-9b13-4f72-a4a4-c47377d299e1",
   "metadata": {},
   "outputs": [],
   "source": [
    "Profiles = {\n",
    "    'Construction-Example': {\n",
    "        'Name': 'Example Corp Construction',\n",
    "        'Industry': 'Construction',\n",
    "        'CompanySize': 1500,\n",
    "        'CompanyType': 'Enterprise',\n",
    "        'Location': 'New York City, NY',\n",
    "        'Mission': 'Building a sustainable future for New York'\n",
    "    },\n",
    "    'Manufacturing-Example': {\n",
    "        'Name': 'Example Corp Manuf',\n",
    "        'Industry': 'Manufacturing',\n",
    "        'CompanySize': 2500,\n",
    "        'CompanyType': 'Enterprise',\n",
    "        'Location': 'San Jose, CA',\n",
    "        'Mission': 'Building the next generation Electric Vehicles'\n",
    "    },\n",
    "    'Mining-Example': {\n",
    "        'Name': 'Example Corp Mining',\n",
    "        'Industry': 'Mining',\n",
    "        'CompanySize': 500,\n",
    "        'CompanyType': 'Midsize',\n",
    "        'Location': 'Bisbee, AZ',\n",
    "        'Mission': 'Extracting the value for America'\n",
    "    }\n",
    "}"
   ]
  },
  {
   "cell_type": "markdown",
   "id": "17d03ef2-5010-4445-90c4-0f7b5f1be0ee",
   "metadata": {},
   "source": [
    "Now a user signs in (ITERATION)"
   ]
  },
  {
   "cell_type": "code",
   "execution_count": null,
   "id": "544971ca-40c8-4795-9fcf-588dc1816ddd",
   "metadata": {},
   "outputs": [],
   "source": [
    "# ITERATION - SELECTION:\n",
    "selected_profile = 'Manufacturing-Example'"
   ]
  },
  {
   "cell_type": "code",
   "execution_count": null,
   "id": "5f8f72bf-12fe-4231-b44d-4f4edccc9ebf",
   "metadata": {},
   "outputs": [],
   "source": [
    "UserProfile= Profiles[selected_profile]\n",
    "offering = offerings[UserProfile['Industry']]\n",
    "project = selected_profile + \"_Website_Haiku\""
   ]
  },
  {
   "cell_type": "markdown",
   "id": "f2bd5fb1-a0ca-4ca3-b9a5-9e2117cc8cef",
   "metadata": {},
   "source": [
    "### Runtime"
   ]
  },
  {
   "cell_type": "markdown",
   "id": "373ebf30-bbb3-4ac0-9b29-ced37cc10792",
   "metadata": {},
   "source": [
    "#### 1) Natural Language description of customer profile"
   ]
  },
  {
   "cell_type": "code",
   "execution_count": null,
   "id": "69555c15-b24c-402b-b454-f1e20140e721",
   "metadata": {},
   "outputs": [],
   "source": [
    "customer = build_profile(UserProfile)\n",
    "print(customer)"
   ]
  },
  {
   "cell_type": "markdown",
   "id": "350661cc-f978-4b99-8bc0-6beb3fb2716e",
   "metadata": {},
   "source": [
    "#### 2) Retreieve painpoints of customer industry / any context\n",
    "This flow uses RAG to retreive documents"
   ]
  },
  {
   "cell_type": "code",
   "execution_count": null,
   "id": "bdab9a97-a2e1-44c6-a098-e7d70b367b8c",
   "metadata": {},
   "outputs": [],
   "source": [
    "query = '{}\\nWhat are the possible pain-points and challanges for this customer?'.format(customer)\n",
    "print(query)"
   ]
  },
  {
   "cell_type": "code",
   "execution_count": null,
   "id": "3fd820d5-2c23-4267-89b6-c704e282c235",
   "metadata": {},
   "outputs": [],
   "source": [
    "context_painpoints = Bedrock.dec_retrieve(query, kbId, numberOfResults=10)\n",
    "contexts_painpoints = get_contexts(context_painpoints)\n",
    "print(contexts_painpoints)"
   ]
  },
  {
   "cell_type": "markdown",
   "id": "7e7f2ad0-765a-47ee-ab4b-5f77c869a5d1",
   "metadata": {},
   "source": [
    "### 4) Prompting AI to describe a website personalized for this profile and background\n",
    "Here the prompting is critical. Please see the guidance provided to the LLM. We also ask the response to be in two parts; 1/ Description, 2/ Visual Elements. The second part is needed for an easier traffic move to image generation or finding image."
   ]
  },
  {
   "cell_type": "code",
   "execution_count": null,
   "id": "f9ee31e3-5dfc-4bff-8794-76ce582553f2",
   "metadata": {},
   "outputs": [],
   "source": [
    "testimonials = open(\"./references/Testimonials.txt\", \"r\").read()\n",
    "print(testimonials)"
   ]
  },
  {
   "cell_type": "markdown",
   "id": "83196b71-6987-4c74-93c1-dfc4372d94ab",
   "metadata": {},
   "source": [
    "First, we need to get the most recent suggested steps for the LLM"
   ]
  },
  {
   "cell_type": "code",
   "execution_count": null,
   "id": "76fbd79e-2ec5-4bcf-966b-0758ecc6eee0",
   "metadata": {},
   "outputs": [],
   "source": [
    "design_steps= open(\"./references/RecommendedStepsToDesignNew.txt\", \"r\").read()\n",
    "print(design_steps)"
   ]
  },
  {
   "cell_type": "code",
   "execution_count": null,
   "id": "8ed3ca75-235d-4cf1-98cf-030375bd750b",
   "metadata": {},
   "outputs": [],
   "source": [
    "design_guideline= open(\"./references/DesignGuidelineNew.txt\", \"r\").read()"
   ]
  },
  {
   "cell_type": "markdown",
   "id": "110e3cd7-ab98-4a75-877b-9f19815077c1",
   "metadata": {},
   "source": [
    "Now, we have all the inputs to form our prompt"
   ]
  },
  {
   "cell_type": "code",
   "execution_count": null,
   "id": "ea416e7a-6606-4843-a24a-6c9be335c52a",
   "metadata": {},
   "outputs": [],
   "source": [
    "prompt = f\"\"\"\n",
    "You are a passionate AI UI/UX designer working for AnyCompany Consulting, a consulting firm that provides management and technical consultancy services to companies in the construction, mining, and manufacturing industries. AnyCompany Consulting now offers personalized online experiences for their registered customers by creating tailored landing pages. These websites feature offerings, design elements, and calls to action that are customized to each customer's profile and industry-specific pain points.\n",
    "\n",
    "Your task is to design visually appealing and personalized landing pages personalized for customers to encourage them to work with AnyCompany Consulting to get consultancy services. Your response in this activity will be used by artists and front-end developers.\n",
    "\n",
    "The personalized website should be composed of the following sections:\n",
    "- A Header\n",
    "- A Hero Section\n",
    "- An Offerings Section\n",
    "- A Customer Pain-points Section\n",
    "- A Testimonials section \n",
    "- A Call-to-Action Section\n",
    "\n",
    "The website should display the company logo (anycompany_logo.jpg) and the website title is \"AnyCompany Consulting Personalized Page\". Please also consider adding common menu options on the top.  \n",
    "\n",
    "The customer testimonials are:\n",
    "{testimonials}\n",
    "\n",
    "Please follow the below design guidelines:\n",
    "\n",
    "{design_guideline}\n",
    "\n",
    "Your task is to design AnyCompany Consulting landing page website personalized for the below customer:\n",
    "\n",
    "Customer Profile:\n",
    "{customer}\n",
    "\n",
    "Related offerings:\n",
    "<offerings>\n",
    "{offering}\n",
    "</offerings>\n",
    "\n",
    "Customer challenges and pain-points:\n",
    "<pain-points>\n",
    "{contexts_painpoints}\n",
    "</pain-points>\n",
    "\n",
    "First, design the personalized website following these steps:\n",
    "\n",
    "{design_steps}\n",
    "\n",
    "Now, please provide your response in two sections:\n",
    "\n",
    "Section 1: Detailed Website Description\n",
    "This section will be used by front-end developers. Provide a comprehensive and complete description of the personalized website, dynamic content for JavaScript, including the layout, images, sections, and content with full text. Be specific and elaborate in your descriptions. Use labels (e.g. hero-example.jpg) when mentioning images.\n",
    "\n",
    "Section 2: Visual Elements\n",
    "This section will be used by artists and designers. Provide a consolidated list of all images with their labels and detailed descriptions. Tag each item with <VISUAL_LABEL> for the label and <VISUAL_DESCRIPTION> for the description, following the provided example format.\n",
    "\n",
    "Example:\n",
    "\n",
    "1. <VISUAL_LABEL>hero-image.jpg</VISUAL_LABEL>\n",
    "<VISUAL_DESCRIPTION>This image depicts a bustling construction site with workers actively engaged in various tasks. In the foreground, there are workers operating heavy machinery, such as excavators and cranes, while others are seen working on scaffolding or carrying materials. The background features a partially constructed building, showcasing the progress of the project.</VISUAL_DESCRIPTION>\n",
    "\n",
    "2. <VISUAL_LABEL>service-icon.png</VISUAL_LABEL>\n",
    "<VISUAL_DESCRIPTION>This icon represents the \"Pre-Construction Services\". It features a blueprint or architectural drawing as the central element, symbolizing the planning and preparation phase of construction projects.</VISUAL_DESCRIPTION>\n",
    "\n",
    "3. ...\n",
    "4. ...\n",
    "\"\"\""
   ]
  },
  {
   "cell_type": "code",
   "execution_count": null,
   "id": "d0d5782d-71e1-4477-b9c1-503fc3528191",
   "metadata": {},
   "outputs": [],
   "source": [
    "%%time\n",
    "response_personalized_website = Bedrock.invoke(prompt=prompt, modelID=model_id['Haiku'], max_tokens = 4096, temp = 0.0)"
   ]
  },
  {
   "cell_type": "code",
   "execution_count": null,
   "id": "74934648-6cb4-4110-8eea-fcac9f7edd4d",
   "metadata": {
    "scrolled": true
   },
   "outputs": [],
   "source": [
    "print(response_personalized_website)"
   ]
  },
  {
   "cell_type": "markdown",
   "id": "19d7eaa5-3534-4b0e-9dfc-1683a5783a2b",
   "metadata": {},
   "source": [
    "#### 5) Image Creation based on Description\n"
   ]
  },
  {
   "cell_type": "markdown",
   "id": "f2f5cb25-c691-457c-be07-532579a75599",
   "metadata": {},
   "source": [
    "##### a) Get the Picture information from the response of the Personalizer LLM\n",
    "Notice that if the image is \"image\" then we use 1024 x 1024 otherwise 512 x 512. "
   ]
  },
  {
   "cell_type": "code",
   "execution_count": null,
   "id": "4fef7da9-f0e5-4c2b-bc88-14d4b2cea8c5",
   "metadata": {},
   "outputs": [],
   "source": [
    "pattern = r'<VISUAL_LABEL>(.+?)</VISUAL_LABEL>\\s*<VISUAL_DESCRIPTION>(.+?)</VISUAL_DESCRIPTION>'\n",
    "\n",
    "# Find all matches in the input string\n",
    "matches = re.findall(pattern, response_personalized_website, re.DOTALL)\n",
    "\n",
    "\n",
    "# Create a list of tuples with visual asset name and description\n",
    "visual_assets= {m[0].strip(): m[1].strip() for m in matches}\n",
    "\n",
    "# Creating visual assets with the right sizing\n",
    "visuals = []\n",
    "for asset in visual_assets.items():\n",
    "    if \"anycompany_logo\" in asset[0]:\n",
    "        continue  # Skip this iteration if the filename contains \"unicorn\"\n",
    "    else:\n",
    "        width = 1024\n",
    "        height = 1024\n",
    "    visuals.append({'FileName': asset[0], 'Prompt': asset[1], 'width':width, 'height':height})"
   ]
  },
  {
   "cell_type": "code",
   "execution_count": null,
   "id": "ae17de99-ea8c-4c87-8dfb-ead45b5ef69d",
   "metadata": {},
   "outputs": [],
   "source": [
    "print(\"Number of visual assets created: {}\".format(len(visuals)))"
   ]
  },
  {
   "cell_type": "markdown",
   "id": "b0fee76e-a943-45a8-a713-b42e9397a40a",
   "metadata": {},
   "source": [
    "##### b) Invoke Stable Diffusion\n",
    "Here we assumed that the image description is the prompt for Text-to-Image. We successively call the APIs and then save the files."
   ]
  },
  {
   "cell_type": "code",
   "execution_count": null,
   "id": "d7fe3aed-8eeb-49b3-bc55-e449de1ec7e6",
   "metadata": {},
   "outputs": [],
   "source": [
    "%%time\n",
    "responses_image = []\n",
    "images = []\n",
    "for vis in visuals:\n",
    "    response = Bedrock.invoke_stable_diff(prompt = vis['Prompt'],  seed=0, height = vis['height'], \n",
    "                                          width = vis['width'], steps = 30, cfg_scale = 10)\n",
    "    responses_image.append(response)\n",
    "    image_bytes = base64.b64decode(response.encode('ascii'))\n",
    "\n",
    "    # Save the image\n",
    "    image = Image.open(io.BytesIO(image_bytes))\n",
    "    image.save(f\"{vis['FileName']}\")\n",
    "    images.append(np.array(image))"
   ]
  },
  {
   "cell_type": "markdown",
   "id": "516b1d04-49a2-47b5-bc88-1f0fdc360bc1",
   "metadata": {},
   "source": [
    "We also copy the company logo from references to next to other visuals for better visibility"
   ]
  },
  {
   "cell_type": "code",
   "execution_count": null,
   "id": "4843ea20-a727-47a6-ae04-8c1f95a47f38",
   "metadata": {},
   "outputs": [],
   "source": [
    "shutil.copy(\"./references/anycompany_logo.jpg\", \"./anycompany_logo.jpg\")"
   ]
  },
  {
   "cell_type": "markdown",
   "id": "d78a5af5-34f4-4f3c-bc87-bf567ed2c9bf",
   "metadata": {},
   "source": [
    "Let's plot the images generated"
   ]
  },
  {
   "cell_type": "code",
   "execution_count": null,
   "id": "d30cdd8f-a310-44a8-9816-d9cbd58d60b1",
   "metadata": {
    "scrolled": true
   },
   "outputs": [],
   "source": [
    "# Plot the images\n",
    "num_images = len(images)\n",
    "fig, axs = plt.subplots(1, num_images, figsize=(20, 10))\n",
    "\n",
    "for i, (image, ax, filename) in enumerate(zip(images, axs, [vis['FileName'] for vis in visuals])):\n",
    "    ax.imshow(image)\n",
    "    ax.set_title(filename, fontsize=16)\n",
    "    ax.axis('off')\n",
    "\n",
    "plt.tight_layout()\n",
    "plt.show()"
   ]
  },
  {
   "cell_type": "markdown",
   "id": "db50077f-3e5b-41f8-90a9-e60e2f46d3c4",
   "metadata": {},
   "source": [
    "#### 6) Let's Generate our HTML file"
   ]
  },
  {
   "cell_type": "markdown",
   "id": "1e49c09f-47da-4b48-a251-55963da574ec",
   "metadata": {},
   "source": [
    "First, we need to extract the response for the Section 1: Detailed Description from *response_personalized_website*"
   ]
  },
  {
   "cell_type": "code",
   "execution_count": null,
   "id": "fef97004-0756-47de-b8ad-246dbe1259a5",
   "metadata": {},
   "outputs": [],
   "source": [
    "# Extract Section-1 using regular expressions\n",
    "#section_1_pattern = r\"Section 1: Detailed Website Description\\n\\n(.*?)\\n\\nSection 2:\"\n",
    "#match = re.search(section_1_pattern, response_personalized_website, re.DOTALL)\n",
    "\n",
    "#if match:\n",
    "#    response_detailed_explanation = match.group(1)\n",
    "#    print(f\"Here is the Section-1 extracted from the LLM response:\\n\\n{response_detailed_explanation}\")\n",
    "#else:\n",
    "#    print(\"Section-1 not found in the input text.\")"
   ]
  },
  {
   "cell_type": "markdown",
   "id": "ee19b88a-06c4-460f-bd1a-55e07f513304",
   "metadata": {},
   "source": [
    "Here we will use Haiku to create the HTML file."
   ]
  },
  {
   "cell_type": "code",
   "execution_count": null,
   "id": "f2d0b50b-1007-413a-8b02-ae62541648b2",
   "metadata": {},
   "outputs": [],
   "source": [
    "prompt = f\"\"\"\n",
    "You are an experienced front-end web developer specializing in creating accessible, responsive, and visually appealing websites. Your task is to generate the complete HTML, CSS, and JavaScript code that accurately implements the provided 'Website Description' while adhering to the specified guidelines.\n",
    "\n",
    "<website description>\n",
    "Know that, this your Design Guideline (Requirements):\n",
    "{design_guideline}\n",
    "\n",
    "You use the testimonials as follows;\n",
    "{testimonials}\n",
    "\n",
    "Website Description:\n",
    "{response_personalized_website}\n",
    "</website description>\n",
    "\n",
    "Please carefully read the 'Website Description' line by line, and then generate the HTML, CSS, and JavaScript code required to build the described website while following the specified design guidelines and requirements.\n",
    "\n",
    "Provide the HTML, CSS, and JavaScript code directly, starting with the <!DOCTYPE html> declaration, without any preamble or introduction.\n",
    "\n",
    "\"\"\""
   ]
  },
  {
   "cell_type": "code",
   "execution_count": null,
   "id": "11a42f02-956d-4d01-854c-19d9d378c7ef",
   "metadata": {},
   "outputs": [],
   "source": [
    "%%time\n",
    "response_html = Bedrock.invoke(prompt=prompt, modelID=model_id['Haiku'], max_tokens = 4096, temp = 0)"
   ]
  },
  {
   "cell_type": "code",
   "execution_count": null,
   "id": "127d131a-0bb7-42de-831f-23d1953b7767",
   "metadata": {
    "jp-MarkdownHeadingCollapsed": true
   },
   "outputs": [],
   "source": [
    "#print(response_html)"
   ]
  },
  {
   "cell_type": "markdown",
   "id": "1d3130d5-c579-449c-873f-4d96c37bb2ef",
   "metadata": {},
   "source": [
    "#### Putting the assets into a single folder"
   ]
  },
  {
   "cell_type": "code",
   "execution_count": null,
   "id": "45657a3b-ac82-45de-8b82-8f755d255ed2",
   "metadata": {},
   "outputs": [],
   "source": [
    "#Creating the folder for our project\n",
    "try:\n",
    "    os.mkdir(project)\n",
    "    print(f\"Project Folder: {project}\")\n",
    "except Exception as e:\n",
    "    print(f\"An error occurred: {e}\")"
   ]
  },
  {
   "cell_type": "code",
   "execution_count": null,
   "id": "fef9a122-b51d-4710-9c58-a30acaf8bf87",
   "metadata": {},
   "outputs": [],
   "source": [
    "from IPython.display import HTML"
   ]
  },
  {
   "cell_type": "code",
   "execution_count": null,
   "id": "00768801-d471-4b85-b089-2b62a7afdcdd",
   "metadata": {},
   "outputs": [],
   "source": [
    "with open('main.html', 'w', encoding='utf-8') as file:\n",
    "    file.write(response_html)"
   ]
  },
  {
   "cell_type": "code",
   "execution_count": null,
   "id": "5168e46a-a580-4c91-8fa5-24e7103e1313",
   "metadata": {},
   "outputs": [],
   "source": [
    "project_files = list(visual_assets.keys())\n",
    "project_files.append('main.html')"
   ]
  },
  {
   "cell_type": "code",
   "execution_count": null,
   "id": "48a7dc3f-ce9d-45ac-a06d-9f4e02bbe868",
   "metadata": {
    "scrolled": true
   },
   "outputs": [],
   "source": [
    "for file in project_files:\n",
    "    destination = project + \"/\" + file\n",
    "    shutil.move(file, destination)"
   ]
  }
 ],
 "metadata": {
  "kernelspec": {
   "display_name": "Python 3 (ipykernel)",
   "language": "python",
   "name": "python3"
  },
  "language_info": {
   "codemirror_mode": {
    "name": "ipython",
    "version": 3
   },
   "file_extension": ".py",
   "mimetype": "text/x-python",
   "name": "python",
   "nbconvert_exporter": "python",
   "pygments_lexer": "ipython3",
   "version": "3.10.14"
  }
 },
 "nbformat": 4,
 "nbformat_minor": 5
}